{
  "nbformat": 4,
  "nbformat_minor": 0,
  "metadata": {
    "colab": {
      "name": "ML-Major Project-Sentiment Analysis.ipynb",
      "provenance": [],
      "collapsed_sections": [],
      "mount_file_id": "1OSCGbSJqAA5ym5-RDYAmG-2F8DWXc73c",
      "authorship_tag": "ABX9TyOzZo/arvQiNFwWY0i0qfOg",
      "include_colab_link": true
    },
    "kernelspec": {
      "name": "python3",
      "display_name": "Python 3"
    },
    "language_info": {
      "name": "python"
    }
  },
  "cells": [
    {
      "cell_type": "markdown",
      "metadata": {
        "id": "view-in-github",
        "colab_type": "text"
      },
      "source": [
        "<a href=\"https://colab.research.google.com/github/Manoj-Kumar-Paliviri/Major-Project/blob/main/ML_Major_Project_Sentiment_Analysis.ipynb\" target=\"_parent\"><img src=\"https://colab.research.google.com/assets/colab-badge.svg\" alt=\"Open In Colab\"/></a>"
      ]
    },
    {
      "cell_type": "markdown",
      "metadata": {
        "id": "WW-R8O7bxR6_"
      },
      "source": [
        "#Dataset Gathering and loading"
      ]
    },
    {
      "cell_type": "code",
      "metadata": {
        "colab": {
          "base_uri": "https://localhost:8080/",
          "height": 205
        },
        "id": "raI6gmbkphXJ",
        "outputId": "a5f8e0c3-2e4a-4dc2-bb7d-0f17a4fa28a5"
      },
      "source": [
        "import numpy as np \n",
        "import pandas as pd\n",
        "import sklearn\n",
        "df = pd.read_table('/content/drive/MyDrive/PYTHON-APRIL/Machine Learning/Data Sets/amazon_alexa.tsv')\n",
        "df.head()"
      ],
      "execution_count": 1,
      "outputs": [
        {
          "output_type": "execute_result",
          "data": {
            "text/html": [
              "<div>\n",
              "<style scoped>\n",
              "    .dataframe tbody tr th:only-of-type {\n",
              "        vertical-align: middle;\n",
              "    }\n",
              "\n",
              "    .dataframe tbody tr th {\n",
              "        vertical-align: top;\n",
              "    }\n",
              "\n",
              "    .dataframe thead th {\n",
              "        text-align: right;\n",
              "    }\n",
              "</style>\n",
              "<table border=\"1\" class=\"dataframe\">\n",
              "  <thead>\n",
              "    <tr style=\"text-align: right;\">\n",
              "      <th></th>\n",
              "      <th>rating</th>\n",
              "      <th>date</th>\n",
              "      <th>variation</th>\n",
              "      <th>verified_reviews</th>\n",
              "      <th>feedback</th>\n",
              "    </tr>\n",
              "  </thead>\n",
              "  <tbody>\n",
              "    <tr>\n",
              "      <th>0</th>\n",
              "      <td>5</td>\n",
              "      <td>31-Jul-18</td>\n",
              "      <td>Charcoal Fabric</td>\n",
              "      <td>Love my Echo!</td>\n",
              "      <td>1</td>\n",
              "    </tr>\n",
              "    <tr>\n",
              "      <th>1</th>\n",
              "      <td>5</td>\n",
              "      <td>31-Jul-18</td>\n",
              "      <td>Charcoal Fabric</td>\n",
              "      <td>Loved it!</td>\n",
              "      <td>1</td>\n",
              "    </tr>\n",
              "    <tr>\n",
              "      <th>2</th>\n",
              "      <td>4</td>\n",
              "      <td>31-Jul-18</td>\n",
              "      <td>Walnut Finish</td>\n",
              "      <td>Sometimes while playing a game, you can answer...</td>\n",
              "      <td>1</td>\n",
              "    </tr>\n",
              "    <tr>\n",
              "      <th>3</th>\n",
              "      <td>5</td>\n",
              "      <td>31-Jul-18</td>\n",
              "      <td>Charcoal Fabric</td>\n",
              "      <td>I have had a lot of fun with this thing. My 4 ...</td>\n",
              "      <td>1</td>\n",
              "    </tr>\n",
              "    <tr>\n",
              "      <th>4</th>\n",
              "      <td>5</td>\n",
              "      <td>31-Jul-18</td>\n",
              "      <td>Charcoal Fabric</td>\n",
              "      <td>Music</td>\n",
              "      <td>1</td>\n",
              "    </tr>\n",
              "  </tbody>\n",
              "</table>\n",
              "</div>"
            ],
            "text/plain": [
              "   rating  ... feedback\n",
              "0       5  ...        1\n",
              "1       5  ...        1\n",
              "2       4  ...        1\n",
              "3       5  ...        1\n",
              "4       5  ...        1\n",
              "\n",
              "[5 rows x 5 columns]"
            ]
          },
          "metadata": {
            "tags": []
          },
          "execution_count": 1
        }
      ]
    },
    {
      "cell_type": "code",
      "metadata": {
        "colab": {
          "base_uri": "https://localhost:8080/"
        },
        "id": "RrApOaD4vzrP",
        "outputId": "5847f1aa-e6e5-49f5-d8d3-05343ee84f09"
      },
      "source": [
        "df['rating'].value_counts()"
      ],
      "execution_count": 2,
      "outputs": [
        {
          "output_type": "execute_result",
          "data": {
            "text/plain": [
              "5    2286\n",
              "4     455\n",
              "1     161\n",
              "3     152\n",
              "2      96\n",
              "Name: rating, dtype: int64"
            ]
          },
          "metadata": {
            "tags": []
          },
          "execution_count": 2
        }
      ]
    },
    {
      "cell_type": "code",
      "metadata": {
        "colab": {
          "base_uri": "https://localhost:8080/",
          "height": 279
        },
        "id": "PcwLEUrfwLyD",
        "outputId": "d7413714-c402-44a7-c23d-26abe8340163"
      },
      "source": [
        "df.rating.value_counts().plot(kind = 'bar')"
      ],
      "execution_count": 3,
      "outputs": [
        {
          "output_type": "execute_result",
          "data": {
            "text/plain": [
              "<matplotlib.axes._subplots.AxesSubplot at 0x7f23f7607bd0>"
            ]
          },
          "metadata": {
            "tags": []
          },
          "execution_count": 3
        },
        {
          "output_type": "display_data",
          "data": {
            "image/png": "[encoded data removed]",
            "text/plain": [
              "<Figure size 432x288 with 1 Axes>"
            ]
          },
          "metadata": {
            "tags": [],
            "needs_background": "light"
          }
        }
      ]
    },
    {
      "cell_type": "code",
      "metadata": {
        "colab": {
          "base_uri": "https://localhost:8080/"
        },
        "id": "wbwbprRiwWyy",
        "outputId": "6c00e548-d7e6-45f8-837e-c99690809030"
      },
      "source": [
        "df.shape"
      ],
      "execution_count": 4,
      "outputs": [
        {
          "output_type": "execute_result",
          "data": {
            "text/plain": [
              "(3150, 5)"
            ]
          },
          "metadata": {
            "tags": []
          },
          "execution_count": 4
        }
      ]
    },
    {
      "cell_type": "markdown",
      "metadata": {
        "id": "2_M9KO5dxdbu"
      },
      "source": [
        "#Preprocessing"
      ]
    },
    {
      "cell_type": "code",
      "metadata": {
        "colab": {
          "base_uri": "https://localhost:8080/"
        },
        "id": "t6aWmKOxw7si",
        "outputId": "88fdd328-2a78-434c-b904-80f6301b4b12"
      },
      "source": [
        "import nltk\n",
        "nltk.download('stopwords')\n",
        "from nltk.corpus import stopwords"
      ],
      "execution_count": 5,
      "outputs": [
        {
          "output_type": "stream",
          "text": [
            "[nltk_data] Downloading package stopwords to /root/nltk_data...\n",
            "[nltk_data]   Unzipping corpora/stopwords.zip.\n"
          ],
          "name": "stdout"
        }
      ]
    },
    {
      "cell_type": "code",
      "metadata": {
        "colab": {
          "base_uri": "https://localhost:8080/"
        },
        "id": "tXMtuywhx_dy",
        "outputId": "3e650e02-809d-40a4-ebe5-96524647fc4a"
      },
      "source": [
        "nltk.download('all') "
      ],
      "execution_count": 6,
      "outputs": [
        {
          "output_type": "stream",
          "text": [
            "[nltk_data] Downloading collection 'all'\n",
            "[nltk_data]    | \n",
            "[nltk_data]    | Downloading package abc to /root/nltk_data...\n",
            "[nltk_data]    |   Unzipping corpora/abc.zip.\n",
            "[nltk_data]    | Downloading package alpino to /root/nltk_data...\n",
            "[nltk_data]    |   Unzipping corpora/alpino.zip.\n",
            "[nltk_data]    | Downloading package biocreative_ppi to\n",
            "[nltk_data]    |     /root/nltk_data...\n",
            "[nltk_data]    |   Unzipping corpora/biocreative_ppi.zip.\n",
            "[nltk_data]    | Downloading package brown to /root/nltk_data...\n",
            "[nltk_data]    |   Unzipping corpora/brown.zip.\n",
            "[nltk_data]    | Downloading package brown_tei to /root/nltk_data...\n",
            "[nltk_data]    |   Unzipping corpora/brown_tei.zip.\n",
            "[nltk_data]    | Downloading package cess_cat to /root/nltk_data...\n",
            "[nltk_data]    |   Unzipping corpora/cess_cat.zip.\n",
            "[nltk_data]    | Downloading package cess_esp to /root/nltk_data...\n",
            "[nltk_data]    |   Unzipping corpora/cess_esp.zip.\n",
            "[nltk_data]    | Downloading package chat80 to /root/nltk_data...\n",
            "[nltk_data]    |   Unzipping corpora/chat80.zip.\n",
            "[nltk_data]    | Downloading package city_database to\n",
            "[nltk_data]    |     /root/nltk_data...\n",
            "[nltk_data]    |   Unzipping corpora/city_database.zip.\n",
            "[nltk_data]    | Downloading package cmudict to /root/nltk_data...\n",
            "[nltk_data]    |   Unzipping corpora/cmudict.zip.\n",
            "[nltk_data]    | Downloading package comparative_sentences to\n",
            "[nltk_data]    |     /root/nltk_data...\n",
            "[nltk_data]    |   Unzipping corpora/comparative_sentences.zip.\n",
            "[nltk_data]    | Downloading package comtrans to /root/nltk_data...\n",
            "[nltk_data]    | Downloading package conll2000 to /root/nltk_data...\n",
            "[nltk_data]    |   Unzipping corpora/conll2000.zip.\n",
            "[nltk_data]    | Downloading package conll2002 to /root/nltk_data...\n",
            "[nltk_data]    |   Unzipping corpora/conll2002.zip.\n",
            "[nltk_data]    | Downloading package conll2007 to /root/nltk_data...\n",
            "[nltk_data]    | Downloading package crubadan to /root/nltk_data...\n",
            "[nltk_data]    |   Unzipping corpora/crubadan.zip.\n",
            "[nltk_data]    | Downloading package dependency_treebank to\n",
            "[nltk_data]    |     /root/nltk_data...\n",
            "[nltk_data]    |   Unzipping corpora/dependency_treebank.zip.\n",
            "[nltk_data]    | Downloading package dolch to /root/nltk_data...\n",
            "[nltk_data]    |   Unzipping corpora/dolch.zip.\n",
            "[nltk_data]    | Downloading package europarl_raw to\n",
            "[nltk_data]    |     /root/nltk_data...\n",
            "[nltk_data]    |   Unzipping corpora/europarl_raw.zip.\n",
            "[nltk_data]    | Downloading package floresta to /root/nltk_data...\n",
            "[nltk_data]    |   Unzipping corpora/floresta.zip.\n",
            "[nltk_data]    | Downloading package framenet_v15 to\n",
            "[nltk_data]    |     /root/nltk_data...\n",
            "[nltk_data]    |   Unzipping corpora/framenet_v15.zip.\n",
            "[nltk_data]    | Downloading package framenet_v17 to\n",
            "[nltk_data]    |     /root/nltk_data...\n",
            "[nltk_data]    |   Unzipping corpora/framenet_v17.zip.\n",
            "[nltk_data]    | Downloading package gazetteers to /root/nltk_data...\n",
            "[nltk_data]    |   Unzipping corpora/gazetteers.zip.\n",
            "[nltk_data]    | Downloading package genesis to /root/nltk_data...\n",
            "[nltk_data]    |   Unzipping corpora/genesis.zip.\n",
            "[nltk_data]    | Downloading package gutenberg to /root/nltk_data...\n",
            "[nltk_data]    |   Unzipping corpora/gutenberg.zip.\n",
            "[nltk_data]    | Downloading package ieer to /root/nltk_data...\n",
            "[nltk_data]    |   Unzipping corpora/ieer.zip.\n",
            "[nltk_data]    | Downloading package inaugural to /root/nltk_data...\n",
            "[nltk_data]    |   Unzipping corpora/inaugural.zip.\n",
            "[nltk_data]    | Downloading package indian to /root/nltk_data...\n",
            "[nltk_data]    |   Unzipping corpora/indian.zip.\n",
            "[nltk_data]    | Downloading package jeita to /root/nltk_data...\n",
            "[nltk_data]    | Downloading package kimmo to /root/nltk_data...\n",
            "[nltk_data]    |   Unzipping corpora/kimmo.zip.\n",
            "[nltk_data]    | Downloading package knbc to /root/nltk_data...\n",
            "[nltk_data]    | Downloading package lin_thesaurus to\n",
            "[nltk_data]    |     /root/nltk_data...\n",
            "[nltk_data]    |   Unzipping corpora/lin_thesaurus.zip.\n",
            "[nltk_data]    | Downloading package mac_morpho to /root/nltk_data...\n",
            "[nltk_data]    |   Unzipping corpora/mac_morpho.zip.\n",
            "[nltk_data]    | Downloading package machado to /root/nltk_data...\n",
            "[nltk_data]    | Downloading package masc_tagged to /root/nltk_data...\n",
            "[nltk_data]    | Downloading package moses_sample to\n",
            "[nltk_data]    |     /root/nltk_data...\n",
            "[nltk_data]    |   Unzipping models/moses_sample.zip.\n",
            "[nltk_data]    | Downloading package movie_reviews to\n",
            "[nltk_data]    |     /root/nltk_data...\n",
            "[nltk_data]    |   Unzipping corpora/movie_reviews.zip.\n",
            "[nltk_data]    | Downloading package names to /root/nltk_data...\n",
            "[nltk_data]    |   Unzipping corpora/names.zip.\n",
            "[nltk_data]    | Downloading package nombank.1.0 to /root/nltk_data...\n",
            "[nltk_data]    | Downloading package nps_chat to /root/nltk_data...\n",
            "[nltk_data]    |   Unzipping corpora/nps_chat.zip.\n",
            "[nltk_data]    | Downloading package omw to /root/nltk_data...\n",
            "[nltk_data]    |   Unzipping corpora/omw.zip.\n",
            "[nltk_data]    | Downloading package opinion_lexicon to\n",
            "[nltk_data]    |     /root/nltk_data...\n",
            "[nltk_data]    |   Unzipping corpora/opinion_lexicon.zip.\n",
            "[nltk_data]    | Downloading package paradigms to /root/nltk_data...\n",
            "[nltk_data]    |   Unzipping corpora/paradigms.zip.\n",
            "[nltk_data]    | Downloading package pil to /root/nltk_data...\n",
            "[nltk_data]    |   Unzipping corpora/pil.zip.\n",
            "[nltk_data]    | Downloading package pl196x to /root/nltk_data...\n",
            "[nltk_data]    |   Unzipping corpora/pl196x.zip.\n",
            "[nltk_data]    | Downloading package ppattach to /root/nltk_data...\n",
            "[nltk_data]    |   Unzipping corpora/ppattach.zip.\n",
            "[nltk_data]    | Downloading package problem_reports to\n",
            "[nltk_data]    |     /root/nltk_data...\n",
            "[nltk_data]    |   Unzipping corpora/problem_reports.zip.\n",
            "[nltk_data]    | Downloading package propbank to /root/nltk_data...\n",
            "[nltk_data]    | Downloading package ptb to /root/nltk_data...\n",
            "[nltk_data]    |   Unzipping corpora/ptb.zip.\n",
            "[nltk_data]    | Downloading package product_reviews_1 to\n",
            "[nltk_data]    |     /root/nltk_data...\n",
            "[nltk_data]    |   Unzipping corpora/product_reviews_1.zip.\n",
            "[nltk_data]    | Downloading package product_reviews_2 to\n",
            "[nltk_data]    |     /root/nltk_data...\n",
            "[nltk_data]    |   Unzipping corpora/product_reviews_2.zip.\n",
            "[nltk_data]    | Downloading package pros_cons to /root/nltk_data...\n",
            "[nltk_data]    |   Unzipping corpora/pros_cons.zip.\n",
            "[nltk_data]    | Downloading package qc to /root/nltk_data...\n",
            "[nltk_data]    |   Unzipping corpora/qc.zip.\n",
            "[nltk_data]    | Downloading package reuters to /root/nltk_data...\n",
            "[nltk_data]    | Downloading package rte to /root/nltk_data...\n",
            "[nltk_data]    |   Unzipping corpora/rte.zip.\n",
            "[nltk_data]    | Downloading package semcor to /root/nltk_data...\n",
            "[nltk_data]    | Downloading package senseval to /root/nltk_data...\n",
            "[nltk_data]    |   Unzipping corpora/senseval.zip.\n",
            "[nltk_data]    | Downloading package sentiwordnet to\n",
            "[nltk_data]    |     /root/nltk_data...\n",
            "[nltk_data]    |   Unzipping corpora/sentiwordnet.zip.\n",
            "[nltk_data]    | Downloading package sentence_polarity to\n",
            "[nltk_data]    |     /root/nltk_data...\n",
            "[nltk_data]    |   Unzipping corpora/sentence_polarity.zip.\n",
            "[nltk_data]    | Downloading package shakespeare to /root/nltk_data...\n",
            "[nltk_data]    |   Unzipping corpora/shakespeare.zip.\n",
            "[nltk_data]    | Downloading package sinica_treebank to\n",
            "[nltk_data]    |     /root/nltk_data...\n",
            "[nltk_data]    |   Unzipping corpora/sinica_treebank.zip.\n",
            "[nltk_data]    | Downloading package smultron to /root/nltk_data...\n",
            "[nltk_data]    |   Unzipping corpora/smultron.zip.\n",
            "[nltk_data]    | Downloading package state_union to /root/nltk_data...\n",
            "[nltk_data]    |   Unzipping corpora/state_union.zip.\n",
            "[nltk_data]    | Downloading package stopwords to /root/nltk_data...\n",
            "[nltk_data]    |   Package stopwords is already up-to-date!\n",
            "[nltk_data]    | Downloading package subjectivity to\n",
            "[nltk_data]    |     /root/nltk_data...\n",
            "[nltk_data]    |   Unzipping corpora/subjectivity.zip.\n",
            "[nltk_data]    | Downloading package swadesh to /root/nltk_data...\n",
            "[nltk_data]    |   Unzipping corpora/swadesh.zip.\n",
            "[nltk_data]    | Downloading package switchboard to /root/nltk_data...\n",
            "[nltk_data]    |   Unzipping corpora/switchboard.zip.\n",
            "[nltk_data]    | Downloading package timit to /root/nltk_data...\n",
            "[nltk_data]    |   Unzipping corpora/timit.zip.\n",
            "[nltk_data]    | Downloading package toolbox to /root/nltk_data...\n",
            "[nltk_data]    |   Unzipping corpora/toolbox.zip.\n",
            "[nltk_data]    | Downloading package treebank to /root/nltk_data...\n",
            "[nltk_data]    |   Unzipping corpora/treebank.zip.\n",
            "[nltk_data]    | Downloading package twitter_samples to\n",
            "[nltk_data]    |     /root/nltk_data...\n",
            "[nltk_data]    |   Unzipping corpora/twitter_samples.zip.\n",
            "[nltk_data]    | Downloading package udhr to /root/nltk_data...\n",
            "[nltk_data]    |   Unzipping corpora/udhr.zip.\n",
            "[nltk_data]    | Downloading package udhr2 to /root/nltk_data...\n",
            "[nltk_data]    |   Unzipping corpora/udhr2.zip.\n",
            "[nltk_data]    | Downloading package unicode_samples to\n",
            "[nltk_data]    |     /root/nltk_data...\n",
            "[nltk_data]    |   Unzipping corpora/unicode_samples.zip.\n",
            "[nltk_data]    | Downloading package universal_treebanks_v20 to\n",
            "[nltk_data]    |     /root/nltk_data...\n",
            "[nltk_data]    | Downloading package verbnet to /root/nltk_data...\n",
            "[nltk_data]    |   Unzipping corpora/verbnet.zip.\n",
            "[nltk_data]    | Downloading package verbnet3 to /root/nltk_data...\n",
            "[nltk_data]    |   Unzipping corpora/verbnet3.zip.\n",
            "[nltk_data]    | Downloading package webtext to /root/nltk_data...\n",
            "[nltk_data]    |   Unzipping corpora/webtext.zip.\n",
            "[nltk_data]    | Downloading package wordnet to /root/nltk_data...\n",
            "[nltk_data]    |   Unzipping corpora/wordnet.zip.\n",
            "[nltk_data]    | Downloading package wordnet_ic to /root/nltk_data...\n",
            "[nltk_data]    |   Unzipping corpora/wordnet_ic.zip.\n",
            "[nltk_data]    | Downloading package words to /root/nltk_data...\n",
            "[nltk_data]    |   Unzipping corpora/words.zip.\n",
            "[nltk_data]    | Downloading package ycoe to /root/nltk_data...\n",
            "[nltk_data]    |   Unzipping corpora/ycoe.zip.\n",
            "[nltk_data]    | Downloading package rslp to /root/nltk_data...\n",
            "[nltk_data]    |   Unzipping stemmers/rslp.zip.\n",
            "[nltk_data]    | Downloading package maxent_treebank_pos_tagger to\n",
            "[nltk_data]    |     /root/nltk_data...\n",
            "[nltk_data]    |   Unzipping taggers/maxent_treebank_pos_tagger.zip.\n",
            "[nltk_data]    | Downloading package universal_tagset to\n",
            "[nltk_data]    |     /root/nltk_data...\n",
            "[nltk_data]    |   Unzipping taggers/universal_tagset.zip.\n",
            "[nltk_data]    | Downloading package maxent_ne_chunker to\n",
            "[nltk_data]    |     /root/nltk_data...\n",
            "[nltk_data]    |   Unzipping chunkers/maxent_ne_chunker.zip.\n",
            "[nltk_data]    | Downloading package punkt to /root/nltk_data...\n",
            "[nltk_data]    |   Unzipping tokenizers/punkt.zip.\n",
            "[nltk_data]    | Downloading package book_grammars to\n",
            "[nltk_data]    |     /root/nltk_data...\n",
            "[nltk_data]    |   Unzipping grammars/book_grammars.zip.\n",
            "[nltk_data]    | Downloading package sample_grammars to\n",
            "[nltk_data]    |     /root/nltk_data...\n",
            "[nltk_data]    |   Unzipping grammars/sample_grammars.zip.\n",
            "[nltk_data]    | Downloading package spanish_grammars to\n",
            "[nltk_data]    |     /root/nltk_data...\n",
            "[nltk_data]    |   Unzipping grammars/spanish_grammars.zip.\n",
            "[nltk_data]    | Downloading package basque_grammars to\n",
            "[nltk_data]    |     /root/nltk_data...\n",
            "[nltk_data]    |   Unzipping grammars/basque_grammars.zip.\n",
            "[nltk_data]    | Downloading package large_grammars to\n",
            "[nltk_data]    |     /root/nltk_data...\n",
            "[nltk_data]    |   Unzipping grammars/large_grammars.zip.\n",
            "[nltk_data]    | Downloading package tagsets to /root/nltk_data...\n",
            "[nltk_data]    |   Unzipping help/tagsets.zip.\n",
            "[nltk_data]    | Downloading package snowball_data to\n",
            "[nltk_data]    |     /root/nltk_data...\n",
            "[nltk_data]    | Downloading package bllip_wsj_no_aux to\n",
            "[nltk_data]    |     /root/nltk_data...\n",
            "[nltk_data]    |   Unzipping models/bllip_wsj_no_aux.zip.\n",
            "[nltk_data]    | Downloading package word2vec_sample to\n",
            "[nltk_data]    |     /root/nltk_data...\n",
            "[nltk_data]    |   Unzipping models/word2vec_sample.zip.\n",
            "[nltk_data]    | Downloading package panlex_swadesh to\n",
            "[nltk_data]    |     /root/nltk_data...\n",
            "[nltk_data]    | Downloading package mte_teip5 to /root/nltk_data...\n",
            "[nltk_data]    |   Unzipping corpora/mte_teip5.zip.\n",
            "[nltk_data]    | Downloading package averaged_perceptron_tagger to\n",
            "[nltk_data]    |     /root/nltk_data...\n",
            "[nltk_data]    |   Unzipping taggers/averaged_perceptron_tagger.zip.\n",
            "[nltk_data]    | Downloading package averaged_perceptron_tagger_ru to\n",
            "[nltk_data]    |     /root/nltk_data...\n",
            "[nltk_data]    |   Unzipping\n",
            "[nltk_data]    |       taggers/averaged_perceptron_tagger_ru.zip.\n",
            "[nltk_data]    | Downloading package perluniprops to\n",
            "[nltk_data]    |     /root/nltk_data...\n",
            "[nltk_data]    |   Unzipping misc/perluniprops.zip.\n",
            "[nltk_data]    | Downloading package nonbreaking_prefixes to\n",
            "[nltk_data]    |     /root/nltk_data...\n",
            "[nltk_data]    |   Unzipping corpora/nonbreaking_prefixes.zip.\n",
            "[nltk_data]    | Downloading package vader_lexicon to\n",
            "[nltk_data]    |     /root/nltk_data...\n",
            "[nltk_data]    | Downloading package porter_test to /root/nltk_data...\n",
            "[nltk_data]    |   Unzipping stemmers/porter_test.zip.\n",
            "[nltk_data]    | Downloading package wmt15_eval to /root/nltk_data...\n",
            "[nltk_data]    |   Unzipping models/wmt15_eval.zip.\n",
            "[nltk_data]    | Downloading package mwa_ppdb to /root/nltk_data...\n",
            "[nltk_data]    |   Unzipping misc/mwa_ppdb.zip.\n",
            "[nltk_data]    | \n",
            "[nltk_data]  Done downloading collection all\n"
          ],
          "name": "stdout"
        },
        {
          "output_type": "execute_result",
          "data": {
            "text/plain": [
              "True"
            ]
          },
          "metadata": {
            "tags": []
          },
          "execution_count": 6
        }
      ]
    },
    {
      "cell_type": "code",
      "metadata": {
        "colab": {
          "base_uri": "https://localhost:8080/"
        },
        "id": "uuV_iakPyQGA",
        "outputId": "a3ba5ef8-27a9-412c-a3ea-564f629b0627"
      },
      "source": [
        "stop_words = stopwords.words('english')\n",
        "stop_words"
      ],
      "execution_count": 7,
      "outputs": [
        {
          "output_type": "execute_result",
          "data": {
            "text/plain": [
              "['i',\n",
              " 'me',\n",
              " 'my',\n",
              " 'myself',\n",
              " 'we',\n",
              " 'our',\n",
              " 'ours',\n",
              " 'ourselves',\n",
              " 'you',\n",
              " \"you're\",\n",
              " \"you've\",\n",
              " \"you'll\",\n",
              " \"you'd\",\n",
              " 'your',\n",
              " 'yours',\n",
              " 'yourself',\n",
              " 'yourselves',\n",
              " 'he',\n",
              " 'him',\n",
              " 'his',\n",
              " 'himself',\n",
              " 'she',\n",
              " \"she's\",\n",
              " 'her',\n",
              " 'hers',\n",
              " 'herself',\n",
              " 'it',\n",
              " \"it's\",\n",
              " 'its',\n",
              " 'itself',\n",
              " 'they',\n",
              " 'them',\n",
              " 'their',\n",
              " 'theirs',\n",
              " 'themselves',\n",
              " 'what',\n",
              " 'which',\n",
              " 'who',\n",
              " 'whom',\n",
              " 'this',\n",
              " 'that',\n",
              " \"that'll\",\n",
              " 'these',\n",
              " 'those',\n",
              " 'am',\n",
              " 'is',\n",
              " 'are',\n",
              " 'was',\n",
              " 'were',\n",
              " 'be',\n",
              " 'been',\n",
              " 'being',\n",
              " 'have',\n",
              " 'has',\n",
              " 'had',\n",
              " 'having',\n",
              " 'do',\n",
              " 'does',\n",
              " 'did',\n",
              " 'doing',\n",
              " 'a',\n",
              " 'an',\n",
              " 'the',\n",
              " 'and',\n",
              " 'but',\n",
              " 'if',\n",
              " 'or',\n",
              " 'because',\n",
              " 'as',\n",
              " 'until',\n",
              " 'while',\n",
              " 'of',\n",
              " 'at',\n",
              " 'by',\n",
              " 'for',\n",
              " 'with',\n",
              " 'about',\n",
              " 'against',\n",
              " 'between',\n",
              " 'into',\n",
              " 'through',\n",
              " 'during',\n",
              " 'before',\n",
              " 'after',\n",
              " 'above',\n",
              " 'below',\n",
              " 'to',\n",
              " 'from',\n",
              " 'up',\n",
              " 'down',\n",
              " 'in',\n",
              " 'out',\n",
              " 'on',\n",
              " 'off',\n",
              " 'over',\n",
              " 'under',\n",
              " 'again',\n",
              " 'further',\n",
              " 'then',\n",
              " 'once',\n",
              " 'here',\n",
              " 'there',\n",
              " 'when',\n",
              " 'where',\n",
              " 'why',\n",
              " 'how',\n",
              " 'all',\n",
              " 'any',\n",
              " 'both',\n",
              " 'each',\n",
              " 'few',\n",
              " 'more',\n",
              " 'most',\n",
              " 'other',\n",
              " 'some',\n",
              " 'such',\n",
              " 'no',\n",
              " 'nor',\n",
              " 'not',\n",
              " 'only',\n",
              " 'own',\n",
              " 'same',\n",
              " 'so',\n",
              " 'than',\n",
              " 'too',\n",
              " 'very',\n",
              " 's',\n",
              " 't',\n",
              " 'can',\n",
              " 'will',\n",
              " 'just',\n",
              " 'don',\n",
              " \"don't\",\n",
              " 'should',\n",
              " \"should've\",\n",
              " 'now',\n",
              " 'd',\n",
              " 'll',\n",
              " 'm',\n",
              " 'o',\n",
              " 're',\n",
              " 've',\n",
              " 'y',\n",
              " 'ain',\n",
              " 'aren',\n",
              " \"aren't\",\n",
              " 'couldn',\n",
              " \"couldn't\",\n",
              " 'didn',\n",
              " \"didn't\",\n",
              " 'doesn',\n",
              " \"doesn't\",\n",
              " 'hadn',\n",
              " \"hadn't\",\n",
              " 'hasn',\n",
              " \"hasn't\",\n",
              " 'haven',\n",
              " \"haven't\",\n",
              " 'isn',\n",
              " \"isn't\",\n",
              " 'ma',\n",
              " 'mightn',\n",
              " \"mightn't\",\n",
              " 'mustn',\n",
              " \"mustn't\",\n",
              " 'needn',\n",
              " \"needn't\",\n",
              " 'shan',\n",
              " \"shan't\",\n",
              " 'shouldn',\n",
              " \"shouldn't\",\n",
              " 'wasn',\n",
              " \"wasn't\",\n",
              " 'weren',\n",
              " \"weren't\",\n",
              " 'won',\n",
              " \"won't\",\n",
              " 'wouldn',\n",
              " \"wouldn't\"]"
            ]
          },
          "metadata": {
            "tags": []
          },
          "execution_count": 7
        }
      ]
    },
    {
      "cell_type": "code",
      "metadata": {
        "colab": {
          "base_uri": "https://localhost:8080/"
        },
        "id": "WFFVmdIny_W8",
        "outputId": "3cda3ef6-a57a-4153-ce95-419e14d64c90"
      },
      "source": [
        "len(stop_words)"
      ],
      "execution_count": 8,
      "outputs": [
        {
          "output_type": "execute_result",
          "data": {
            "text/plain": [
              "179"
            ]
          },
          "metadata": {
            "tags": []
          },
          "execution_count": 8
        }
      ]
    },
    {
      "cell_type": "code",
      "metadata": {
        "colab": {
          "base_uri": "https://localhost:8080/"
        },
        "id": "sMwrNPgQzIcp",
        "outputId": "ee768346-f868-4e31-a400-648e1257aee6"
      },
      "source": [
        "negative_words=['no','not',\"don't\",\"aren't\",\"couldn't\",\"didn't\",\"doesn't\",\"hadn't\",\"hasn't\",\"haven't\",\"isn't\",\"mightn't\",\"mustn't\",\"needn't\",\"shouldn't\",\"wasn't\",\"weren't\",\"won't\",\"wouldn't\"]\n",
        "for word in negative_words:\n",
        "  stop_words.remove(word)\n",
        "len(stop_words)"
      ],
      "execution_count": 9,
      "outputs": [
        {
          "output_type": "execute_result",
          "data": {
            "text/plain": [
              "160"
            ]
          },
          "metadata": {
            "tags": []
          },
          "execution_count": 9
        }
      ]
    },
    {
      "cell_type": "markdown",
      "metadata": {
        "id": "DMxUshKE0x58"
      },
      "source": [
        "Cleaning the data by removing numbers,punctuation and white spaces using 're'(regular expression) module"
      ]
    },
    {
      "cell_type": "code",
      "metadata": {
        "id": "JTKt8VLKzrYU"
      },
      "source": [
        "import re\n",
        "replace_white_space_re = re.compile('[/(){}—[]|@,;‘?|।!-॥–’-]')\n",
        "\n",
        "def clean_text(data):\n",
        "  data = str(data).lower()\n",
        "  data = data.replace(\"<br /><br />\", \"\")\n",
        "  data = replace_white_space_re.sub(' ', data)\n",
        "  data = re.sub(\"[^a-z]+\", \" \", data)\n",
        "  data = re.sub(\"[0-9]\", \" \",data)\n",
        "  data = data.split(\" \")\n",
        "  data = [word for word in data if word not in stop_words ]\n",
        "  data = \" \".join(data)\n",
        "  return data"
      ],
      "execution_count": 10,
      "outputs": []
    },
    {
      "cell_type": "code",
      "metadata": {
        "colab": {
          "base_uri": "https://localhost:8080/",
          "height": 362
        },
        "id": "wuYTBwer4Qbw",
        "outputId": "87239305-e459-4728-a8fa-87ab0e64fa55"
      },
      "source": [
        "df['verified_reviews'] = df['verified_reviews'].apply(clean_text)\n",
        "ratings = [\n",
        "           (df['rating']<3),\n",
        "           (df['rating']>=3),\n",
        "          ]\n",
        "analysis = ['Negative','Positive']\n",
        "df['sentiment'] = np.select(ratings,analysis)\n",
        "df[['rating','verified_reviews','sentiment']].head(10)"
      ],
      "execution_count": 11,
      "outputs": [
        {
          "output_type": "execute_result",
          "data": {
            "text/html": [
              "<div>\n",
              "<style scoped>\n",
              "    .dataframe tbody tr th:only-of-type {\n",
              "        vertical-align: middle;\n",
              "    }\n",
              "\n",
              "    .dataframe tbody tr th {\n",
              "        vertical-align: top;\n",
              "    }\n",
              "\n",
              "    .dataframe thead th {\n",
              "        text-align: right;\n",
              "    }\n",
              "</style>\n",
              "<table border=\"1\" class=\"dataframe\">\n",
              "  <thead>\n",
              "    <tr style=\"text-align: right;\">\n",
              "      <th></th>\n",
              "      <th>rating</th>\n",
              "      <th>verified_reviews</th>\n",
              "      <th>sentiment</th>\n",
              "    </tr>\n",
              "  </thead>\n",
              "  <tbody>\n",
              "    <tr>\n",
              "      <th>0</th>\n",
              "      <td>5</td>\n",
              "      <td>love echo</td>\n",
              "      <td>Positive</td>\n",
              "    </tr>\n",
              "    <tr>\n",
              "      <th>1</th>\n",
              "      <td>5</td>\n",
              "      <td>loved</td>\n",
              "      <td>Positive</td>\n",
              "    </tr>\n",
              "    <tr>\n",
              "      <th>2</th>\n",
              "      <td>4</td>\n",
              "      <td>sometimes playing game answer question correct...</td>\n",
              "      <td>Positive</td>\n",
              "    </tr>\n",
              "    <tr>\n",
              "      <th>3</th>\n",
              "      <td>5</td>\n",
              "      <td>lot fun thing yr old learns dinosaurs control ...</td>\n",
              "      <td>Positive</td>\n",
              "    </tr>\n",
              "    <tr>\n",
              "      <th>4</th>\n",
              "      <td>5</td>\n",
              "      <td>music</td>\n",
              "      <td>Positive</td>\n",
              "    </tr>\n",
              "    <tr>\n",
              "      <th>5</th>\n",
              "      <td>5</td>\n",
              "      <td>received echo gift needed another bluetooth so...</td>\n",
              "      <td>Positive</td>\n",
              "    </tr>\n",
              "    <tr>\n",
              "      <th>6</th>\n",
              "      <td>3</td>\n",
              "      <td>without cellphone cannot use many features ipa...</td>\n",
              "      <td>Positive</td>\n",
              "    </tr>\n",
              "    <tr>\n",
              "      <th>7</th>\n",
              "      <td>5</td>\n",
              "      <td>think th one purchased working getting one eve...</td>\n",
              "      <td>Positive</td>\n",
              "    </tr>\n",
              "    <tr>\n",
              "      <th>8</th>\n",
              "      <td>5</td>\n",
              "      <td>looks great</td>\n",
              "      <td>Positive</td>\n",
              "    </tr>\n",
              "    <tr>\n",
              "      <th>9</th>\n",
              "      <td>5</td>\n",
              "      <td>love listened songs heard since childhood get ...</td>\n",
              "      <td>Positive</td>\n",
              "    </tr>\n",
              "  </tbody>\n",
              "</table>\n",
              "</div>"
            ],
            "text/plain": [
              "   rating                                   verified_reviews sentiment\n",
              "0       5                                         love echo   Positive\n",
              "1       5                                             loved   Positive\n",
              "2       4  sometimes playing game answer question correct...  Positive\n",
              "3       5  lot fun thing yr old learns dinosaurs control ...  Positive\n",
              "4       5                                              music  Positive\n",
              "5       5  received echo gift needed another bluetooth so...  Positive\n",
              "6       3  without cellphone cannot use many features ipa...  Positive\n",
              "7       5  think th one purchased working getting one eve...  Positive\n",
              "8       5                                        looks great  Positive\n",
              "9       5  love listened songs heard since childhood get ...  Positive"
            ]
          },
          "metadata": {
            "tags": []
          },
          "execution_count": 11
        }
      ]
    },
    {
      "cell_type": "code",
      "metadata": {
        "colab": {
          "base_uri": "https://localhost:8080/",
          "height": 319
        },
        "id": "_wjucOh86GSk",
        "outputId": "c6e4da18-450a-490e-a5f9-d96983fde3c1"
      },
      "source": [
        "import matplotlib.pyplot as plt\n",
        "df['sentiment'].value_counts().sort_index().plot.bar(color = ['r','b','g'])"
      ],
      "execution_count": 12,
      "outputs": [
        {
          "output_type": "execute_result",
          "data": {
            "text/plain": [
              "<matplotlib.axes._subplots.AxesSubplot at 0x7f23efa01f90>"
            ]
          },
          "metadata": {
            "tags": []
          },
          "execution_count": 12
        },
        {
          "output_type": "display_data",
          "data": {
            "image/png": "[encoded data removed]",
            "text/plain": [
              "<Figure size 432x288 with 1 Axes>"
            ]
          },
          "metadata": {
            "tags": [],
            "needs_background": "light"
          }
        }
      ]
    },
    {
      "cell_type": "markdown",
      "metadata": {
        "id": "A015kusA9dLz"
      },
      "source": [
        "Stemming"
      ]
    },
    {
      "cell_type": "code",
      "metadata": {
        "id": "QAoHcL4j9IVx"
      },
      "source": [
        "from nltk import PorterStemmer\n",
        "from nltk.tokenize import word_tokenize\n",
        "ps = PorterStemmer()\n",
        "cleansed_review = []\n",
        "for text in df['verified_reviews']:\n",
        "  cleansed_text = []\n",
        "  text = text.replace('<br /><br />',' ')\n",
        "  text = re.sub('[^a-zA-Z]',' ',text)\n",
        "  text = text.lower()\n",
        "  for word in nltk.word_tokenize(text):\n",
        "    if word not in stopwords.words('english'):\n",
        "      cleansed_text.append(ps.stem(word))\n",
        "  cleansed_text = ' '.join(word for word in cleansed_text)\n",
        "  cleansed_review.append(cleansed_text)"
      ],
      "execution_count": 13,
      "outputs": []
    },
    {
      "cell_type": "code",
      "metadata": {
        "colab": {
          "base_uri": "https://localhost:8080/",
          "height": 52
        },
        "id": "6TIQn8UOABQM",
        "outputId": "63781649-6c86-4ade-fae8-271a59f0da78"
      },
      "source": [
        "cleansed_review[6]"
      ],
      "execution_count": 14,
      "outputs": [
        {
          "output_type": "execute_result",
          "data": {
            "application/vnd.google.colaboratory.intrinsic+json": {
              "type": "string"
            },
            "text/plain": [
              "'without cellphon use mani featur ipad see use great alarm u r almost deaf hear alarm bedroom live room reason enough keep fun ask random question hear respons seem smartbon polit yet'"
            ]
          },
          "metadata": {
            "tags": []
          },
          "execution_count": 14
        }
      ]
    },
    {
      "cell_type": "markdown",
      "metadata": {
        "id": "9r2BytdLCjdg"
      },
      "source": [
        "Setting the input and output"
      ]
    },
    {
      "cell_type": "code",
      "metadata": {
        "colab": {
          "base_uri": "https://localhost:8080/"
        },
        "id": "8RUkpvBtCMwr",
        "outputId": "f54b843d-412d-4812-f972-a5eeb17f40c1"
      },
      "source": [
        "x = np.array(cleansed_review)\n",
        "y = df['sentiment'].values\n",
        "print(x,y,sep = '\\n')"
      ],
      "execution_count": 15,
      "outputs": [
        {
          "output_type": "stream",
          "text": [
            "['love echo' 'love'\n",
            " 'sometim play game answer question correctli alexa say got wrong answer like abl turn light away home'\n",
            " ...\n",
            " 'love thing run entir home tv light thermostat front door dead bolt camera love listen npr thing well worth valu realli shine stat ad smart devic control entir home like right star trek name mine comput get feel amaz devic smart system'\n",
            " 'complaint sound qualiti great mostli use command though anoth dot hook stereo system play music coupl friend dot mind audio qualiti bother kind thing go full size echo make sure hook larger speaker'\n",
            " 'good']\n",
            "['Positive' 'Positive' 'Positive' ... 'Positive' 'Positive' 'Positive']\n"
          ],
          "name": "stdout"
        }
      ]
    },
    {
      "cell_type": "markdown",
      "metadata": {
        "id": "AboSk3KEDZUs"
      },
      "source": [
        "Splitting the data to test and train the model"
      ]
    },
    {
      "cell_type": "code",
      "metadata": {
        "id": "IW6MQMwvC0Jm"
      },
      "source": [
        "from sklearn.model_selection import train_test_split\n",
        "x_train,x_test,y_train,y_test = train_test_split(x,y,random_state = 0)"
      ],
      "execution_count": 16,
      "outputs": []
    },
    {
      "cell_type": "code",
      "metadata": {
        "colab": {
          "base_uri": "https://localhost:8080/"
        },
        "id": "Dj33HuNJ1t6k",
        "outputId": "7589e003-612f-4ae4-e329-5e5d8c50c7ad"
      },
      "source": [
        "print(x_train.shape)\n",
        "print(y_test.shape)"
      ],
      "execution_count": 17,
      "outputs": [
        {
          "output_type": "stream",
          "text": [
            "(2362,)\n",
            "(788,)\n"
          ],
          "name": "stdout"
        }
      ]
    },
    {
      "cell_type": "code",
      "metadata": {
        "colab": {
          "base_uri": "https://localhost:8080/"
        },
        "id": "DDAVr0br15mv",
        "outputId": "0677d0b5-cd2a-4c9b-8ea9-c559c25588f9"
      },
      "source": [
        "import numpy as np\n",
        "np.unique(y_train,return_counts=True)"
      ],
      "execution_count": 18,
      "outputs": [
        {
          "output_type": "execute_result",
          "data": {
            "text/plain": [
              "(array(['Negative', 'Positive'], dtype=object), array([ 186, 2176]))"
            ]
          },
          "metadata": {
            "tags": []
          },
          "execution_count": 18
        }
      ]
    },
    {
      "cell_type": "code",
      "metadata": {
        "id": "AW1y_0A2D-Jw"
      },
      "source": [
        "from sklearn.svm import SVC\n",
        "from sklearn.feature_extraction.text import TfidfVectorizer"
      ],
      "execution_count": 19,
      "outputs": []
    },
    {
      "cell_type": "code",
      "metadata": {
        "colab": {
          "base_uri": "https://localhost:8080/"
        },
        "id": "dHtHFwCxEkhK",
        "outputId": "6873765e-a0c8-4f3d-d563-baa68dda0402"
      },
      "source": [
        "from sklearn.pipeline import Pipeline\n",
        "text_model = Pipeline([('vect1',TfidfVectorizer()),('model1',SVC())])\n",
        "text_model.fit(x_train,y_train)"
      ],
      "execution_count": 20,
      "outputs": [
        {
          "output_type": "execute_result",
          "data": {
            "text/plain": [
              "Pipeline(memory=None,\n",
              "         steps=[('vect1',\n",
              "                 TfidfVectorizer(analyzer='word', binary=False,\n",
              "                                 decode_error='strict',\n",
              "                                 dtype=<class 'numpy.float64'>,\n",
              "                                 encoding='utf-8', input='content',\n",
              "                                 lowercase=True, max_df=1.0, max_features=None,\n",
              "                                 min_df=1, ngram_range=(1, 1), norm='l2',\n",
              "                                 preprocessor=None, smooth_idf=True,\n",
              "                                 stop_words=None, strip_accents=None,\n",
              "                                 sublinear_tf=False,\n",
              "                                 token_pattern='(?u)\\\\b\\\\w\\\\w+\\\\b',\n",
              "                                 tokenizer=None, use_idf=True,\n",
              "                                 vocabulary=None)),\n",
              "                ('model1',\n",
              "                 SVC(C=1.0, break_ties=False, cache_size=200, class_weight=None,\n",
              "                     coef0=0.0, decision_function_shape='ovr', degree=3,\n",
              "                     gamma='scale', kernel='rbf', max_iter=-1,\n",
              "                     probability=False, random_state=None, shrinking=True,\n",
              "                     tol=0.001, verbose=False))],\n",
              "         verbose=False)"
            ]
          },
          "metadata": {
            "tags": []
          },
          "execution_count": 20
        }
      ]
    },
    {
      "cell_type": "code",
      "metadata": {
        "id": "Hv_OwrYH2A-P"
      },
      "source": [
        "vect = TfidfVectorizer()\n",
        "x_train = vect.fit_transform(x_train)\n",
        "x_test = vect.transform(x_test)"
      ],
      "execution_count": 21,
      "outputs": []
    },
    {
      "cell_type": "code",
      "metadata": {
        "colab": {
          "base_uri": "https://localhost:8080/"
        },
        "id": "OFRlOpoN2btR",
        "outputId": "c9a6bd78-13e9-4597-d0dd-a53216de2f9d"
      },
      "source": [
        "x_train"
      ],
      "execution_count": 22,
      "outputs": [
        {
          "output_type": "execute_result",
          "data": {
            "text/plain": [
              "<2362x2531 sparse matrix of type '<class 'numpy.float64'>'\n",
              "\twith 26472 stored elements in Compressed Sparse Row format>"
            ]
          },
          "metadata": {
            "tags": []
          },
          "execution_count": 22
        }
      ]
    },
    {
      "cell_type": "code",
      "metadata": {
        "colab": {
          "base_uri": "https://localhost:8080/"
        },
        "id": "qBNrLPNP5ZQZ",
        "outputId": "6fd848f6-e9d6-4e21-81af-0dd9776b7ae6"
      },
      "source": [
        "x_test"
      ],
      "execution_count": 23,
      "outputs": [
        {
          "output_type": "execute_result",
          "data": {
            "text/plain": [
              "<788x2531 sparse matrix of type '<class 'numpy.float64'>'\n",
              "\twith 8491 stored elements in Compressed Sparse Row format>"
            ]
          },
          "metadata": {
            "tags": []
          },
          "execution_count": 23
        }
      ]
    },
    {
      "cell_type": "code",
      "metadata": {
        "colab": {
          "base_uri": "https://localhost:8080/"
        },
        "id": "hqRC9p1U2iLi",
        "outputId": "09366988-e314-401b-95e1-2d0504afe42c"
      },
      "source": [
        "model = SVC()\n",
        "model.fit(x_train,y_train)\n",
        "y_pred = model.predict(x_test)\n",
        "y_pred"
      ],
      "execution_count": 24,
      "outputs": [
        {
          "output_type": "execute_result",
          "data": {
            "text/plain": [
              "array(['Positive', 'Positive', 'Positive', 'Positive', 'Positive',\n",
              "       'Positive', 'Positive', 'Positive', 'Positive', 'Positive',\n",
              "       'Positive', 'Positive', 'Positive', 'Positive', 'Positive',\n",
              "       'Positive', 'Positive', 'Positive', 'Positive', 'Positive',\n",
              "       'Positive', 'Positive', 'Positive', 'Positive', 'Positive',\n",
              "       'Positive', 'Positive', 'Positive', 'Positive', 'Positive',\n",
              "       'Positive', 'Positive', 'Positive', 'Positive', 'Positive',\n",
              "       'Positive', 'Positive', 'Positive', 'Positive', 'Positive',\n",
              "       'Positive', 'Positive', 'Positive', 'Positive', 'Positive',\n",
              "       'Positive', 'Positive', 'Positive', 'Positive', 'Positive',\n",
              "       'Positive', 'Positive', 'Positive', 'Positive', 'Positive',\n",
              "       'Positive', 'Positive', 'Positive', 'Positive', 'Positive',\n",
              "       'Positive', 'Positive', 'Positive', 'Positive', 'Positive',\n",
              "       'Positive', 'Positive', 'Positive', 'Positive', 'Positive',\n",
              "       'Positive', 'Positive', 'Positive', 'Positive', 'Positive',\n",
              "       'Positive', 'Positive', 'Positive', 'Positive', 'Positive',\n",
              "       'Positive', 'Positive', 'Positive', 'Positive', 'Positive',\n",
              "       'Positive', 'Positive', 'Positive', 'Positive', 'Positive',\n",
              "       'Positive', 'Positive', 'Positive', 'Positive', 'Positive',\n",
              "       'Positive', 'Positive', 'Positive', 'Positive', 'Positive',\n",
              "       'Positive', 'Positive', 'Positive', 'Positive', 'Positive',\n",
              "       'Positive', 'Positive', 'Positive', 'Positive', 'Positive',\n",
              "       'Positive', 'Positive', 'Positive', 'Positive', 'Positive',\n",
              "       'Positive', 'Positive', 'Positive', 'Positive', 'Positive',\n",
              "       'Positive', 'Positive', 'Positive', 'Positive', 'Positive',\n",
              "       'Positive', 'Positive', 'Positive', 'Positive', 'Positive',\n",
              "       'Positive', 'Positive', 'Positive', 'Positive', 'Positive',\n",
              "       'Positive', 'Negative', 'Positive', 'Positive', 'Positive',\n",
              "       'Positive', 'Positive', 'Positive', 'Positive', 'Positive',\n",
              "       'Positive', 'Positive', 'Negative', 'Positive', 'Positive',\n",
              "       'Positive', 'Positive', 'Positive', 'Positive', 'Positive',\n",
              "       'Positive', 'Positive', 'Positive', 'Positive', 'Positive',\n",
              "       'Positive', 'Positive', 'Positive', 'Positive', 'Positive',\n",
              "       'Positive', 'Positive', 'Positive', 'Positive', 'Positive',\n",
              "       'Positive', 'Positive', 'Positive', 'Positive', 'Positive',\n",
              "       'Positive', 'Positive', 'Positive', 'Positive', 'Positive',\n",
              "       'Positive', 'Positive', 'Positive', 'Positive', 'Positive',\n",
              "       'Positive', 'Positive', 'Positive', 'Positive', 'Positive',\n",
              "       'Positive', 'Positive', 'Positive', 'Positive', 'Positive',\n",
              "       'Positive', 'Positive', 'Positive', 'Positive', 'Positive',\n",
              "       'Positive', 'Positive', 'Positive', 'Positive', 'Positive',\n",
              "       'Positive', 'Positive', 'Positive', 'Positive', 'Positive',\n",
              "       'Positive', 'Positive', 'Positive', 'Positive', 'Positive',\n",
              "       'Positive', 'Positive', 'Positive', 'Positive', 'Positive',\n",
              "       'Positive', 'Positive', 'Positive', 'Positive', 'Positive',\n",
              "       'Positive', 'Positive', 'Positive', 'Positive', 'Positive',\n",
              "       'Positive', 'Positive', 'Positive', 'Positive', 'Positive',\n",
              "       'Positive', 'Positive', 'Positive', 'Positive', 'Positive',\n",
              "       'Negative', 'Positive', 'Positive', 'Positive', 'Positive',\n",
              "       'Positive', 'Positive', 'Positive', 'Positive', 'Positive',\n",
              "       'Positive', 'Positive', 'Positive', 'Positive', 'Positive',\n",
              "       'Positive', 'Positive', 'Positive', 'Positive', 'Positive',\n",
              "       'Positive', 'Positive', 'Positive', 'Positive', 'Positive',\n",
              "       'Positive', 'Positive', 'Positive', 'Positive', 'Positive',\n",
              "       'Positive', 'Positive', 'Positive', 'Positive', 'Positive',\n",
              "       'Positive', 'Positive', 'Positive', 'Positive', 'Positive',\n",
              "       'Positive', 'Positive', 'Positive', 'Positive', 'Positive',\n",
              "       'Positive', 'Positive', 'Positive', 'Positive', 'Positive',\n",
              "       'Positive', 'Positive', 'Positive', 'Positive', 'Positive',\n",
              "       'Positive', 'Positive', 'Positive', 'Positive', 'Positive',\n",
              "       'Positive', 'Positive', 'Positive', 'Positive', 'Positive',\n",
              "       'Positive', 'Positive', 'Positive', 'Positive', 'Positive',\n",
              "       'Positive', 'Positive', 'Positive', 'Positive', 'Positive',\n",
              "       'Positive', 'Positive', 'Positive', 'Positive', 'Positive',\n",
              "       'Positive', 'Positive', 'Positive', 'Positive', 'Positive',\n",
              "       'Positive', 'Positive', 'Positive', 'Positive', 'Positive',\n",
              "       'Positive', 'Positive', 'Positive', 'Positive', 'Positive',\n",
              "       'Positive', 'Positive', 'Positive', 'Positive', 'Negative',\n",
              "       'Positive', 'Positive', 'Positive', 'Positive', 'Positive',\n",
              "       'Positive', 'Positive', 'Positive', 'Positive', 'Positive',\n",
              "       'Positive', 'Positive', 'Positive', 'Positive', 'Positive',\n",
              "       'Positive', 'Positive', 'Positive', 'Positive', 'Positive',\n",
              "       'Positive', 'Positive', 'Positive', 'Positive', 'Positive',\n",
              "       'Positive', 'Positive', 'Positive', 'Positive', 'Positive',\n",
              "       'Positive', 'Positive', 'Positive', 'Positive', 'Positive',\n",
              "       'Positive', 'Positive', 'Positive', 'Positive', 'Positive',\n",
              "       'Positive', 'Positive', 'Positive', 'Positive', 'Positive',\n",
              "       'Positive', 'Positive', 'Positive', 'Positive', 'Positive',\n",
              "       'Positive', 'Positive', 'Positive', 'Positive', 'Positive',\n",
              "       'Positive', 'Positive', 'Positive', 'Positive', 'Positive',\n",
              "       'Positive', 'Positive', 'Positive', 'Positive', 'Positive',\n",
              "       'Positive', 'Positive', 'Positive', 'Positive', 'Positive',\n",
              "       'Positive', 'Positive', 'Positive', 'Positive', 'Positive',\n",
              "       'Positive', 'Positive', 'Positive', 'Positive', 'Positive',\n",
              "       'Positive', 'Positive', 'Positive', 'Positive', 'Positive',\n",
              "       'Positive', 'Positive', 'Positive', 'Positive', 'Positive',\n",
              "       'Positive', 'Positive', 'Positive', 'Positive', 'Positive',\n",
              "       'Positive', 'Positive', 'Positive', 'Positive', 'Positive',\n",
              "       'Positive', 'Positive', 'Positive', 'Positive', 'Positive',\n",
              "       'Positive', 'Positive', 'Positive', 'Positive', 'Positive',\n",
              "       'Positive', 'Positive', 'Positive', 'Positive', 'Positive',\n",
              "       'Positive', 'Positive', 'Positive', 'Positive', 'Positive',\n",
              "       'Positive', 'Positive', 'Positive', 'Positive', 'Positive',\n",
              "       'Positive', 'Positive', 'Positive', 'Positive', 'Positive',\n",
              "       'Positive', 'Positive', 'Positive', 'Positive', 'Positive',\n",
              "       'Positive', 'Positive', 'Positive', 'Positive', 'Positive',\n",
              "       'Positive', 'Positive', 'Positive', 'Positive', 'Positive',\n",
              "       'Positive', 'Positive', 'Positive', 'Positive', 'Positive',\n",
              "       'Positive', 'Positive', 'Positive', 'Positive', 'Positive',\n",
              "       'Positive', 'Positive', 'Positive', 'Positive', 'Positive',\n",
              "       'Positive', 'Positive', 'Positive', 'Positive', 'Positive',\n",
              "       'Positive', 'Positive', 'Positive', 'Positive', 'Positive',\n",
              "       'Positive', 'Positive', 'Positive', 'Positive', 'Positive',\n",
              "       'Positive', 'Positive', 'Positive', 'Positive', 'Positive',\n",
              "       'Positive', 'Positive', 'Positive', 'Positive', 'Positive',\n",
              "       'Positive', 'Positive', 'Positive', 'Positive', 'Positive',\n",
              "       'Positive', 'Positive', 'Positive', 'Positive', 'Positive',\n",
              "       'Positive', 'Positive', 'Positive', 'Positive', 'Positive',\n",
              "       'Positive', 'Positive', 'Positive', 'Positive', 'Positive',\n",
              "       'Positive', 'Positive', 'Positive', 'Positive', 'Positive',\n",
              "       'Positive', 'Positive', 'Positive', 'Positive', 'Positive',\n",
              "       'Positive', 'Negative', 'Positive', 'Positive', 'Positive',\n",
              "       'Positive', 'Positive', 'Positive', 'Positive', 'Positive',\n",
              "       'Positive', 'Positive', 'Positive', 'Positive', 'Positive',\n",
              "       'Positive', 'Positive', 'Positive', 'Positive', 'Positive',\n",
              "       'Positive', 'Positive', 'Positive', 'Positive', 'Positive',\n",
              "       'Positive', 'Positive', 'Positive', 'Positive', 'Positive',\n",
              "       'Positive', 'Positive', 'Positive', 'Positive', 'Positive',\n",
              "       'Positive', 'Positive', 'Positive', 'Positive', 'Positive',\n",
              "       'Positive', 'Positive', 'Positive', 'Positive', 'Positive',\n",
              "       'Positive', 'Positive', 'Positive', 'Negative', 'Positive',\n",
              "       'Positive', 'Positive', 'Positive', 'Positive', 'Positive',\n",
              "       'Positive', 'Positive', 'Positive', 'Positive', 'Positive',\n",
              "       'Positive', 'Negative', 'Positive', 'Positive', 'Positive',\n",
              "       'Positive', 'Positive', 'Positive', 'Positive', 'Positive',\n",
              "       'Positive', 'Positive', 'Positive', 'Positive', 'Positive',\n",
              "       'Positive', 'Positive', 'Positive', 'Positive', 'Positive',\n",
              "       'Positive', 'Positive', 'Positive', 'Positive', 'Positive',\n",
              "       'Positive', 'Positive', 'Positive', 'Positive', 'Positive',\n",
              "       'Positive', 'Positive', 'Positive', 'Positive', 'Positive',\n",
              "       'Positive', 'Positive', 'Positive', 'Positive', 'Positive',\n",
              "       'Positive', 'Positive', 'Positive', 'Positive', 'Positive',\n",
              "       'Positive', 'Positive', 'Positive', 'Positive', 'Positive',\n",
              "       'Positive', 'Positive', 'Positive', 'Positive', 'Positive',\n",
              "       'Positive', 'Positive', 'Positive', 'Positive', 'Positive',\n",
              "       'Positive', 'Positive', 'Positive', 'Positive', 'Positive',\n",
              "       'Positive', 'Positive', 'Positive', 'Positive', 'Positive',\n",
              "       'Positive', 'Positive', 'Positive', 'Positive', 'Positive',\n",
              "       'Positive', 'Positive', 'Positive', 'Positive', 'Negative',\n",
              "       'Positive', 'Positive', 'Positive', 'Positive', 'Positive',\n",
              "       'Positive', 'Positive', 'Positive', 'Positive', 'Positive',\n",
              "       'Positive', 'Positive', 'Positive', 'Positive', 'Positive',\n",
              "       'Positive', 'Positive', 'Positive', 'Positive', 'Positive',\n",
              "       'Positive', 'Positive', 'Positive', 'Positive', 'Positive',\n",
              "       'Positive', 'Positive', 'Positive', 'Positive', 'Positive',\n",
              "       'Positive', 'Positive', 'Positive', 'Positive', 'Positive',\n",
              "       'Positive', 'Positive', 'Positive', 'Positive', 'Positive',\n",
              "       'Positive', 'Positive', 'Positive', 'Positive', 'Positive',\n",
              "       'Positive', 'Positive', 'Positive', 'Positive', 'Positive',\n",
              "       'Positive', 'Positive', 'Positive', 'Positive', 'Positive',\n",
              "       'Positive', 'Positive', 'Positive', 'Positive', 'Positive',\n",
              "       'Positive', 'Positive', 'Positive', 'Positive', 'Positive',\n",
              "       'Positive', 'Positive', 'Positive', 'Positive', 'Positive',\n",
              "       'Positive', 'Positive', 'Positive', 'Positive', 'Positive',\n",
              "       'Positive', 'Positive', 'Positive', 'Positive', 'Positive',\n",
              "       'Positive', 'Positive', 'Positive', 'Positive', 'Positive',\n",
              "       'Positive', 'Positive', 'Positive', 'Positive', 'Positive',\n",
              "       'Positive', 'Negative', 'Positive'], dtype=object)"
            ]
          },
          "metadata": {
            "tags": []
          },
          "execution_count": 24
        }
      ]
    },
    {
      "cell_type": "code",
      "metadata": {
        "colab": {
          "base_uri": "https://localhost:8080/"
        },
        "id": "zht6D0FF21mK",
        "outputId": "1767c46b-e593-4290-bcc0-c90a41f9a962"
      },
      "source": [
        "y_test"
      ],
      "execution_count": 25,
      "outputs": [
        {
          "output_type": "execute_result",
          "data": {
            "text/plain": [
              "array(['Positive', 'Positive', 'Positive', 'Positive', 'Positive',\n",
              "       'Negative', 'Positive', 'Positive', 'Positive', 'Positive',\n",
              "       'Positive', 'Positive', 'Negative', 'Positive', 'Negative',\n",
              "       'Positive', 'Positive', 'Positive', 'Positive', 'Positive',\n",
              "       'Positive', 'Positive', 'Positive', 'Positive', 'Positive',\n",
              "       'Positive', 'Positive', 'Positive', 'Positive', 'Positive',\n",
              "       'Positive', 'Positive', 'Positive', 'Positive', 'Positive',\n",
              "       'Positive', 'Positive', 'Positive', 'Positive', 'Positive',\n",
              "       'Positive', 'Positive', 'Positive', 'Positive', 'Positive',\n",
              "       'Positive', 'Positive', 'Positive', 'Positive', 'Positive',\n",
              "       'Positive', 'Positive', 'Negative', 'Positive', 'Negative',\n",
              "       'Positive', 'Positive', 'Positive', 'Negative', 'Positive',\n",
              "       'Positive', 'Positive', 'Positive', 'Positive', 'Positive',\n",
              "       'Positive', 'Positive', 'Positive', 'Positive', 'Negative',\n",
              "       'Positive', 'Positive', 'Positive', 'Positive', 'Positive',\n",
              "       'Positive', 'Positive', 'Positive', 'Negative', 'Positive',\n",
              "       'Negative', 'Positive', 'Positive', 'Positive', 'Positive',\n",
              "       'Positive', 'Positive', 'Positive', 'Positive', 'Positive',\n",
              "       'Positive', 'Negative', 'Positive', 'Positive', 'Positive',\n",
              "       'Positive', 'Positive', 'Positive', 'Positive', 'Negative',\n",
              "       'Positive', 'Positive', 'Positive', 'Positive', 'Positive',\n",
              "       'Positive', 'Positive', 'Positive', 'Positive', 'Positive',\n",
              "       'Positive', 'Negative', 'Positive', 'Positive', 'Positive',\n",
              "       'Positive', 'Positive', 'Positive', 'Positive', 'Positive',\n",
              "       'Positive', 'Positive', 'Positive', 'Positive', 'Positive',\n",
              "       'Negative', 'Positive', 'Positive', 'Positive', 'Positive',\n",
              "       'Positive', 'Positive', 'Positive', 'Negative', 'Positive',\n",
              "       'Positive', 'Negative', 'Positive', 'Positive', 'Positive',\n",
              "       'Positive', 'Positive', 'Positive', 'Positive', 'Positive',\n",
              "       'Positive', 'Positive', 'Negative', 'Positive', 'Negative',\n",
              "       'Positive', 'Positive', 'Positive', 'Positive', 'Positive',\n",
              "       'Positive', 'Positive', 'Positive', 'Positive', 'Positive',\n",
              "       'Positive', 'Negative', 'Negative', 'Positive', 'Positive',\n",
              "       'Positive', 'Positive', 'Positive', 'Positive', 'Positive',\n",
              "       'Positive', 'Positive', 'Positive', 'Positive', 'Positive',\n",
              "       'Positive', 'Positive', 'Positive', 'Positive', 'Positive',\n",
              "       'Positive', 'Positive', 'Negative', 'Positive', 'Positive',\n",
              "       'Positive', 'Positive', 'Positive', 'Positive', 'Positive',\n",
              "       'Positive', 'Positive', 'Positive', 'Positive', 'Positive',\n",
              "       'Positive', 'Positive', 'Positive', 'Positive', 'Positive',\n",
              "       'Positive', 'Positive', 'Positive', 'Positive', 'Positive',\n",
              "       'Positive', 'Positive', 'Positive', 'Positive', 'Positive',\n",
              "       'Positive', 'Positive', 'Positive', 'Positive', 'Positive',\n",
              "       'Positive', 'Positive', 'Positive', 'Positive', 'Positive',\n",
              "       'Positive', 'Positive', 'Positive', 'Positive', 'Positive',\n",
              "       'Positive', 'Positive', 'Positive', 'Positive', 'Positive',\n",
              "       'Positive', 'Positive', 'Negative', 'Positive', 'Positive',\n",
              "       'Positive', 'Positive', 'Positive', 'Positive', 'Positive',\n",
              "       'Negative', 'Positive', 'Positive', 'Positive', 'Positive',\n",
              "       'Positive', 'Positive', 'Positive', 'Positive', 'Positive',\n",
              "       'Positive', 'Positive', 'Positive', 'Positive', 'Positive',\n",
              "       'Positive', 'Positive', 'Positive', 'Positive', 'Positive',\n",
              "       'Positive', 'Positive', 'Positive', 'Positive', 'Positive',\n",
              "       'Negative', 'Positive', 'Positive', 'Positive', 'Positive',\n",
              "       'Positive', 'Positive', 'Positive', 'Positive', 'Positive',\n",
              "       'Positive', 'Positive', 'Positive', 'Positive', 'Positive',\n",
              "       'Positive', 'Positive', 'Positive', 'Positive', 'Positive',\n",
              "       'Positive', 'Positive', 'Positive', 'Positive', 'Negative',\n",
              "       'Positive', 'Positive', 'Positive', 'Positive', 'Positive',\n",
              "       'Positive', 'Positive', 'Positive', 'Positive', 'Negative',\n",
              "       'Positive', 'Positive', 'Positive', 'Positive', 'Positive',\n",
              "       'Positive', 'Positive', 'Positive', 'Positive', 'Positive',\n",
              "       'Negative', 'Positive', 'Positive', 'Positive', 'Positive',\n",
              "       'Positive', 'Positive', 'Positive', 'Positive', 'Positive',\n",
              "       'Positive', 'Positive', 'Positive', 'Positive', 'Positive',\n",
              "       'Positive', 'Positive', 'Negative', 'Positive', 'Positive',\n",
              "       'Positive', 'Positive', 'Positive', 'Positive', 'Positive',\n",
              "       'Positive', 'Positive', 'Positive', 'Positive', 'Negative',\n",
              "       'Positive', 'Positive', 'Positive', 'Positive', 'Positive',\n",
              "       'Positive', 'Negative', 'Positive', 'Negative', 'Positive',\n",
              "       'Positive', 'Positive', 'Positive', 'Positive', 'Positive',\n",
              "       'Positive', 'Positive', 'Negative', 'Positive', 'Positive',\n",
              "       'Negative', 'Positive', 'Positive', 'Positive', 'Positive',\n",
              "       'Positive', 'Positive', 'Positive', 'Positive', 'Positive',\n",
              "       'Positive', 'Positive', 'Positive', 'Positive', 'Positive',\n",
              "       'Negative', 'Positive', 'Positive', 'Negative', 'Positive',\n",
              "       'Positive', 'Positive', 'Positive', 'Positive', 'Positive',\n",
              "       'Positive', 'Negative', 'Negative', 'Positive', 'Positive',\n",
              "       'Positive', 'Positive', 'Positive', 'Positive', 'Positive',\n",
              "       'Positive', 'Positive', 'Positive', 'Positive', 'Positive',\n",
              "       'Positive', 'Positive', 'Positive', 'Positive', 'Positive',\n",
              "       'Positive', 'Positive', 'Positive', 'Positive', 'Negative',\n",
              "       'Negative', 'Positive', 'Positive', 'Positive', 'Positive',\n",
              "       'Positive', 'Positive', 'Positive', 'Positive', 'Positive',\n",
              "       'Positive', 'Positive', 'Positive', 'Positive', 'Positive',\n",
              "       'Positive', 'Positive', 'Positive', 'Positive', 'Positive',\n",
              "       'Positive', 'Positive', 'Positive', 'Positive', 'Positive',\n",
              "       'Positive', 'Positive', 'Negative', 'Positive', 'Positive',\n",
              "       'Positive', 'Positive', 'Positive', 'Positive', 'Positive',\n",
              "       'Negative', 'Negative', 'Positive', 'Positive', 'Positive',\n",
              "       'Positive', 'Positive', 'Positive', 'Positive', 'Positive',\n",
              "       'Positive', 'Positive', 'Positive', 'Positive', 'Positive',\n",
              "       'Positive', 'Negative', 'Negative', 'Positive', 'Positive',\n",
              "       'Positive', 'Positive', 'Positive', 'Positive', 'Positive',\n",
              "       'Positive', 'Positive', 'Positive', 'Positive', 'Positive',\n",
              "       'Positive', 'Negative', 'Positive', 'Positive', 'Positive',\n",
              "       'Positive', 'Positive', 'Positive', 'Positive', 'Negative',\n",
              "       'Positive', 'Positive', 'Positive', 'Positive', 'Positive',\n",
              "       'Positive', 'Positive', 'Positive', 'Positive', 'Positive',\n",
              "       'Positive', 'Positive', 'Positive', 'Positive', 'Positive',\n",
              "       'Positive', 'Positive', 'Positive', 'Positive', 'Positive',\n",
              "       'Positive', 'Positive', 'Positive', 'Positive', 'Positive',\n",
              "       'Positive', 'Positive', 'Positive', 'Positive', 'Positive',\n",
              "       'Positive', 'Positive', 'Positive', 'Positive', 'Positive',\n",
              "       'Positive', 'Positive', 'Positive', 'Positive', 'Positive',\n",
              "       'Positive', 'Positive', 'Positive', 'Positive', 'Positive',\n",
              "       'Positive', 'Negative', 'Positive', 'Positive', 'Positive',\n",
              "       'Positive', 'Positive', 'Negative', 'Positive', 'Positive',\n",
              "       'Positive', 'Positive', 'Positive', 'Positive', 'Positive',\n",
              "       'Positive', 'Positive', 'Positive', 'Positive', 'Positive',\n",
              "       'Positive', 'Positive', 'Positive', 'Positive', 'Positive',\n",
              "       'Positive', 'Negative', 'Positive', 'Positive', 'Positive',\n",
              "       'Positive', 'Positive', 'Positive', 'Positive', 'Positive',\n",
              "       'Positive', 'Positive', 'Positive', 'Positive', 'Positive',\n",
              "       'Positive', 'Positive', 'Positive', 'Positive', 'Positive',\n",
              "       'Positive', 'Positive', 'Negative', 'Positive', 'Positive',\n",
              "       'Positive', 'Positive', 'Positive', 'Positive', 'Positive',\n",
              "       'Positive', 'Positive', 'Positive', 'Positive', 'Positive',\n",
              "       'Negative', 'Positive', 'Positive', 'Positive', 'Positive',\n",
              "       'Negative', 'Negative', 'Positive', 'Positive', 'Positive',\n",
              "       'Positive', 'Positive', 'Positive', 'Negative', 'Positive',\n",
              "       'Positive', 'Positive', 'Positive', 'Positive', 'Positive',\n",
              "       'Positive', 'Positive', 'Positive', 'Positive', 'Positive',\n",
              "       'Positive', 'Negative', 'Positive', 'Positive', 'Positive',\n",
              "       'Positive', 'Positive', 'Positive', 'Positive', 'Positive',\n",
              "       'Positive', 'Positive', 'Positive', 'Positive', 'Positive',\n",
              "       'Positive', 'Positive', 'Positive', 'Positive', 'Positive',\n",
              "       'Positive', 'Negative', 'Positive', 'Positive', 'Positive',\n",
              "       'Positive', 'Positive', 'Positive', 'Positive', 'Positive',\n",
              "       'Positive', 'Positive', 'Negative', 'Positive', 'Positive',\n",
              "       'Positive', 'Positive', 'Positive', 'Negative', 'Positive',\n",
              "       'Positive', 'Positive', 'Positive', 'Positive', 'Positive',\n",
              "       'Positive', 'Positive', 'Positive', 'Positive', 'Positive',\n",
              "       'Positive', 'Positive', 'Positive', 'Positive', 'Negative',\n",
              "       'Positive', 'Positive', 'Positive', 'Positive', 'Positive',\n",
              "       'Positive', 'Positive', 'Positive', 'Negative', 'Positive',\n",
              "       'Positive', 'Positive', 'Positive', 'Positive', 'Positive',\n",
              "       'Positive', 'Positive', 'Negative', 'Positive', 'Positive',\n",
              "       'Positive', 'Positive', 'Positive', 'Positive', 'Negative',\n",
              "       'Positive', 'Positive', 'Negative', 'Negative', 'Positive',\n",
              "       'Positive', 'Positive', 'Positive', 'Positive', 'Positive',\n",
              "       'Positive', 'Negative', 'Positive', 'Positive', 'Positive',\n",
              "       'Positive', 'Positive', 'Positive', 'Positive', 'Positive',\n",
              "       'Positive', 'Positive', 'Positive', 'Positive', 'Positive',\n",
              "       'Positive', 'Positive', 'Positive', 'Positive', 'Positive',\n",
              "       'Positive', 'Negative', 'Positive', 'Positive', 'Positive',\n",
              "       'Positive', 'Positive', 'Positive', 'Positive', 'Positive',\n",
              "       'Positive', 'Positive', 'Positive', 'Positive', 'Positive',\n",
              "       'Negative', 'Positive', 'Negative', 'Positive', 'Positive',\n",
              "       'Positive', 'Positive', 'Positive', 'Positive', 'Positive',\n",
              "       'Positive', 'Positive', 'Positive', 'Positive', 'Positive',\n",
              "       'Positive', 'Positive', 'Positive', 'Positive', 'Positive',\n",
              "       'Positive', 'Positive', 'Negative', 'Negative', 'Positive',\n",
              "       'Positive', 'Positive', 'Positive', 'Positive', 'Positive',\n",
              "       'Positive', 'Positive', 'Positive', 'Positive', 'Positive',\n",
              "       'Positive', 'Positive', 'Positive', 'Negative', 'Positive',\n",
              "       'Positive', 'Positive', 'Positive', 'Positive', 'Positive',\n",
              "       'Positive', 'Negative', 'Positive'], dtype=object)"
            ]
          },
          "metadata": {
            "tags": []
          },
          "execution_count": 25
        }
      ]
    },
    {
      "cell_type": "code",
      "metadata": {
        "colab": {
          "base_uri": "https://localhost:8080/"
        },
        "id": "G6hAgvKXG_oB",
        "outputId": "47e7d50a-e4b1-41b6-ddde-bb336ab0ad79"
      },
      "source": [
        "from sklearn.metrics import accuracy_score,confusion_matrix,classification_report\n",
        "accuracy_score(y_pred,y_test)"
      ],
      "execution_count": 26,
      "outputs": [
        {
          "output_type": "execute_result",
          "data": {
            "text/plain": [
              "0.9213197969543148"
            ]
          },
          "metadata": {
            "tags": []
          },
          "execution_count": 26
        }
      ]
    },
    {
      "cell_type": "code",
      "metadata": {
        "colab": {
          "base_uri": "https://localhost:8080/"
        },
        "id": "vp2ZnVR0Harq",
        "outputId": "afe80976-2c26-4c73-b85f-2ba6786eb94d"
      },
      "source": [
        "confusion_matrix(y_pred,y_test)"
      ],
      "execution_count": 27,
      "outputs": [
        {
          "output_type": "execute_result",
          "data": {
            "text/plain": [
              "array([[  9,   0],\n",
              "       [ 62, 717]])"
            ]
          },
          "metadata": {
            "tags": []
          },
          "execution_count": 27
        }
      ]
    },
    {
      "cell_type": "code",
      "metadata": {
        "colab": {
          "base_uri": "https://localhost:8080/"
        },
        "id": "lAoX3VT-Hf0C",
        "outputId": "640d6585-9621-4dcf-833a-fcfa9325657b"
      },
      "source": [
        "print(classification_report(y_pred,y_test))"
      ],
      "execution_count": 28,
      "outputs": [
        {
          "output_type": "stream",
          "text": [
            "              precision    recall  f1-score   support\n",
            "\n",
            "    Negative       0.13      1.00      0.22         9\n",
            "    Positive       1.00      0.92      0.96       779\n",
            "\n",
            "    accuracy                           0.92       788\n",
            "   macro avg       0.56      0.96      0.59       788\n",
            "weighted avg       0.99      0.92      0.95       788\n",
            "\n"
          ],
          "name": "stdout"
        }
      ]
    },
    {
      "cell_type": "markdown",
      "metadata": {
        "id": "w7wyEhmRhP_1"
      },
      "source": [
        "Evaluation for a specific message"
      ]
    },
    {
      "cell_type": "code",
      "metadata": {
        "colab": {
          "base_uri": "https://localhost:8080/",
          "height": 52
        },
        "id": "LjYKIoUI3jSE",
        "outputId": "be57d861-24fb-4c8d-8614-93758fb38b78"
      },
      "source": [
        "text = cleansed_review[6]\n",
        "text"
      ],
      "execution_count": 29,
      "outputs": [
        {
          "output_type": "execute_result",
          "data": {
            "application/vnd.google.colaboratory.intrinsic+json": {
              "type": "string"
            },
            "text/plain": [
              "'without cellphon use mani featur ipad see use great alarm u r almost deaf hear alarm bedroom live room reason enough keep fun ask random question hear respons seem smartbon polit yet'"
            ]
          },
          "metadata": {
            "tags": []
          },
          "execution_count": 29
        }
      ]
    },
    {
      "cell_type": "code",
      "metadata": {
        "colab": {
          "base_uri": "https://localhost:8080/",
          "height": 34
        },
        "id": "kUJBjZV_A68Q",
        "outputId": "85315e4d-05d6-4ff7-f9d0-10c65e3e6605"
      },
      "source": [
        "df['sentiment'][6]"
      ],
      "execution_count": 30,
      "outputs": [
        {
          "output_type": "execute_result",
          "data": {
            "application/vnd.google.colaboratory.intrinsic+json": {
              "type": "string"
            },
            "text/plain": [
              "'Positive'"
            ]
          },
          "metadata": {
            "tags": []
          },
          "execution_count": 30
        }
      ]
    },
    {
      "cell_type": "code",
      "metadata": {
        "colab": {
          "base_uri": "https://localhost:8080/"
        },
        "id": "4c9u34Wn386e",
        "outputId": "5748b94a-9958-4bfb-b556-c7494ef920e5"
      },
      "source": [
        "text = vect.transform([text])\n",
        "model.predict(text)"
      ],
      "execution_count": 31,
      "outputs": [
        {
          "output_type": "execute_result",
          "data": {
            "text/plain": [
              "array(['Positive'], dtype=object)"
            ]
          },
          "metadata": {
            "tags": []
          },
          "execution_count": 31
        }
      ]
    },
    {
      "cell_type": "markdown",
      "metadata": {
        "id": "QsXmS3VRH0E_"
      },
      "source": [
        "Saving the model"
      ]
    },
    {
      "cell_type": "code",
      "metadata": {
        "colab": {
          "base_uri": "https://localhost:8080/"
        },
        "id": "fCcXwpzjHpm0",
        "outputId": "3d89f138-90d0-4028-d91b-502acca93f6b"
      },
      "source": [
        "import joblib\n",
        "joblib.dump(text_model,'Sentiment_Analyzer')"
      ],
      "execution_count": 32,
      "outputs": [
        {
          "output_type": "execute_result",
          "data": {
            "text/plain": [
              "['Sentiment_Analyzer']"
            ]
          },
          "metadata": {
            "tags": []
          },
          "execution_count": 32
        }
      ]
    },
    {
      "cell_type": "code",
      "metadata": {
        "colab": {
          "base_uri": "https://localhost:8080/"
        },
        "id": "QUQpe5dNIKDQ",
        "outputId": "9c73b26e-b8de-46d9-d2df-bbcc8daa86aa"
      },
      "source": [
        "!pip install streamlit --quiet\n",
        "!pip install pyngrok==4.1.1 --quiet\n",
        "from pyngrok import ngrok"
      ],
      "execution_count": 33,
      "outputs": [
        {
          "output_type": "stream",
          "text": [
            "\u001b[K     |████████████████████████████████| 8.2MB 4.3MB/s \n",
            "\u001b[K     |████████████████████████████████| 112kB 46.5MB/s \n",
            "\u001b[K     |████████████████████████████████| 81kB 8.1MB/s \n",
            "\u001b[K     |████████████████████████████████| 174kB 46.5MB/s \n",
            "\u001b[K     |████████████████████████████████| 4.2MB 37.4MB/s \n",
            "\u001b[K     |████████████████████████████████| 71kB 8.3MB/s \n",
            "\u001b[K     |████████████████████████████████| 122kB 51.4MB/s \n",
            "\u001b[?25h  Building wheel for blinker (setup.py) ... \u001b[?25l\u001b[?25hdone\n",
            "\u001b[31mERROR: google-colab 1.0.0 has requirement ipykernel~=4.10, but you'll have ipykernel 5.5.5 which is incompatible.\u001b[0m\n",
            "  Building wheel for pyngrok (setup.py) ... \u001b[?25l\u001b[?25hdone\n"
          ],
          "name": "stdout"
        }
      ]
    },
    {
      "cell_type": "code",
      "metadata": {
        "colab": {
          "base_uri": "https://localhost:8080/"
        },
        "id": "J9al_RVjiM6Q",
        "outputId": "57181dcf-e4fe-4c61-d8b3-d106c7efcac4"
      },
      "source": [
        "%%writefile app.py\n",
        "import streamlit as st\n",
        "import joblib\n",
        "model = joblib.load('Sentiment_Analyzer')\n",
        "st.title('Sentiment Analyzer')\n",
        "input = st.text_input('Enter your review:')\n",
        "bad_reviews = ['bad','worse','worst','very bad','not good','not better','not best','substandard','poor','inferior','second rate','second class','unsatisfactory'\n",
        "                ,'inadequate','unacceptable','not up to scratch','not up to par','deficient','imperfect','defective','faulty'\n",
        "                ,'shoddy','amateurish','careless','negligent','dreadful','awful','terrible','abominable','frightful','atrocious'\n",
        "                ,'disgraceful','deplorable','hopeless','worthless','laughable','lamentable','miserable','sorry','thirdrate'\n",
        "                ,'diabolical','execrable','incompetent','inept','inexpert','ineffectual','crummy','rotten','pathetic','useless'\n",
        "                ,'woeful','bum','lousy','appalling','abysmal','pitiful','godawful','dire','not up to snuff','the pits','duff'\n",
        "                ,'chronic','rubbish','pants','a load of pants','ropy','poxy','egregious','vulgar slangcrap','shit','chickenshit'\n",
        "                ,'unpleasant','disagreeable','unwelcome','unfortunate','unfavourable','unlucky','adverse','nasty','terrible'\n",
        "                ,'dreadful','awful','grim','distressing','regrettable']\n",
        "for i in input.split():\n",
        "  if i in bad_reviews:\n",
        "    output = [['Negative']]\n",
        "    break\n",
        "  else:\n",
        "    output = model.predict([input])\n",
        "if st.button('Predict'):\n",
        "  st.title(output[0])"
      ],
      "execution_count": 34,
      "outputs": [
        {
          "output_type": "stream",
          "text": [
            "Writing app.py\n"
          ],
          "name": "stdout"
        }
      ]
    },
    {
      "cell_type": "code",
      "metadata": {
        "colab": {
          "base_uri": "https://localhost:8080/",
          "height": 52
        },
        "id": "wTjPMj4okOuq",
        "outputId": "214059c2-2690-4340-ffc3-a96c529ca0c7"
      },
      "source": [
        "!nohup streamlit run app.py &\n",
        "url = ngrok.connect(port = '8501')\n",
        "url"
      ],
      "execution_count": 35,
      "outputs": [
        {
          "output_type": "stream",
          "text": [
            "nohup: appending output to 'nohup.out'\n"
          ],
          "name": "stdout"
        },
        {
          "output_type": "execute_result",
          "data": {
            "application/vnd.google.colaboratory.intrinsic+json": {
              "type": "string"
            },
            "text/plain": [
              "'http://94385b0a66f5.ngrok.io'"
            ]
          },
          "metadata": {
            "tags": []
          },
          "execution_count": 35
        }
      ]
    },
    {
      "cell_type": "code",
      "metadata": {
        "colab": {
          "base_uri": "https://localhost:8080/",
          "height": 34
        },
        "id": "V0a9jCEuJi1a",
        "outputId": "5ba073c8-2fb5-45e7-c604-b2327f5dbbfa"
      },
      "source": [
        "sklearn. __version__ "
      ],
      "execution_count": 36,
      "outputs": [
        {
          "output_type": "execute_result",
          "data": {
            "application/vnd.google.colaboratory.intrinsic+json": {
              "type": "string"
            },
            "text/plain": [
              "'0.22.2.post1'"
            ]
          },
          "metadata": {
            "tags": []
          },
          "execution_count": 36
        }
      ]
    }
  ]
}